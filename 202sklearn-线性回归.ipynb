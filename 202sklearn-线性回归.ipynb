{
 "cells": [
  {
   "cell_type": "code",
   "execution_count": 1,
   "metadata": {
    "collapsed": true
   },
   "outputs": [],
   "source": [
    "import pandas as pd\n",
    "import numpy as np"
   ]
  },
  {
   "cell_type": "markdown",
   "metadata": {},
   "source": [
    "### 获取数据\n",
    "sklearn自带数据：波士顿房价"
   ]
  },
  {
   "cell_type": "code",
   "execution_count": 2,
   "metadata": {
    "collapsed": true
   },
   "outputs": [],
   "source": [
    "from sklearn.datasets import load_boston\n",
    "boston = load_boston()\n",
    "X = boston.data\n",
    "y = boston.target"
   ]
  },
  {
   "cell_type": "code",
   "execution_count": 9,
   "metadata": {
    "collapsed": false
   },
   "outputs": [
    {
     "data": {
      "text/plain": [
       "(506, 13)"
      ]
     },
     "execution_count": 9,
     "metadata": {},
     "output_type": "execute_result"
    }
   ],
   "source": [
    "X.shape"
   ]
  },
  {
   "cell_type": "code",
   "execution_count": 96,
   "metadata": {
    "collapsed": true
   },
   "outputs": [
    {
     "name": "stdout",
     "output_type": "stream",
     "text": [
      "<class 'pandas.core.frame.DataFrame'>\n",
      "RangeIndex: 506 entries, 0 to 505\n",
      "Data columns (total 13 columns):\n",
      "0     506 non-null float64\n",
      "1     506 non-null float64\n",
      "2     506 non-null float64\n",
      "3     506 non-null float64\n",
      "4     506 non-null float64\n",
      "5     506 non-null float64\n",
      "6     506 non-null float64\n",
      "7     506 non-null float64\n",
      "8     506 non-null float64\n",
      "9     506 non-null float64\n",
      "10    506 non-null float64\n",
      "11    506 non-null float64\n",
      "12    506 non-null float64\n",
      "dtypes: float64(13)\n",
      "memory usage: 51.5 KB\n"
     ]
    }
   ],
   "source": [
    "X_df.info()"
   ]
  },
  {
   "cell_type": "markdown",
   "metadata": {
    "collapsed": true
   },
   "source": [
    "### 切分数据集"
   ]
  },
  {
   "cell_type": "code",
   "execution_count": 3,
   "metadata": {
    "collapsed": true
   },
   "outputs": [],
   "source": [
    "from sklearn.cross_validation import train_test_split\n",
    "X_train, X_test, y_train, y_test = train_test_split(X, \n",
    "                                                    y, \n",
    "                                                    test_size=0.30, \n",
    "                                                    random_state=42)"
   ]
  },
  {
   "cell_type": "markdown",
   "metadata": {},
   "source": [
    "### LinearRegression模型\n",
    "* 建模（选参数）\n",
    "* 训练（fit）\n",
    "* 预测\n",
    "* 评分\n",
    "* 获取参数"
   ]
  },
  {
   "cell_type": "code",
   "execution_count": 4,
   "metadata": {
    "collapsed": false
   },
   "outputs": [
    {
     "data": {
      "text/plain": [
       "LinearRegression(copy_X=True, fit_intercept=True, n_jobs=1, normalize=False)"
      ]
     },
     "execution_count": 4,
     "metadata": {},
     "output_type": "execute_result"
    }
   ],
   "source": [
    "from sklearn.linear_model import LinearRegression\n",
    "# 创建模型，选好参数\n",
    "lr1 = LinearRegression(fit_intercept=True)\n",
    "# 训练\n",
    "lr1.fit(X_train,y_train)"
   ]
  },
  {
   "cell_type": "code",
   "execution_count": 7,
   "metadata": {
    "collapsed": true
   },
   "outputs": [
    {
     "data": {
      "text/plain": [
       "array([ 28.65507152,  36.50208976,  15.41877538,  25.4123428 ,\n",
       "        18.84504144,  23.15193132,  17.39045794,  14.07068504,\n",
       "        23.04106392,  20.5997909 ,  24.82848981,  18.52972656,\n",
       "        -6.89338718,  21.80647623,  19.23044706,  26.18284059,\n",
       "        20.28099565,   5.61147028,  40.44518211,  17.57213704,\n",
       "        27.44750834,  30.17592819,  10.92939394,  24.0192381 ,\n",
       "        18.06277152,  15.93524273,  23.13784817,  14.49181123,\n",
       "        22.33889889,  19.32732276,  22.1740459 ,  25.19724098,\n",
       "        25.31414125,  18.51391365,  16.60898647,  17.48281643,\n",
       "        30.95248869,  20.19196715,  23.90566388,  24.87331497,\n",
       "        13.93612301,  31.82414012,  42.56492347,  17.62944481,\n",
       "        27.02392519,  17.1891161 ,  13.79929973,  26.10739476,\n",
       "        20.31403576,  30.09296805,  21.31686534,  34.1606385 ,\n",
       "        15.59905068,  26.11282476,  39.31618827,  22.99094172,\n",
       "        18.95021816,  33.05721471,  24.85373006,  12.91490043,\n",
       "        22.67333429,  30.795732  ,  31.63743635,  16.28548951,\n",
       "        21.06900792,  16.58193817,  20.35778853,  26.16063538,\n",
       "        31.07034018,  11.92085251,  20.42923588,  27.56094421,\n",
       "        10.91352725,  16.82098422,  23.93711194,   5.29210616,\n",
       "        21.43740732,  41.33305336,  18.21893428,   9.48264107,\n",
       "        21.20620501,  12.93525129,  21.65334979,   9.38479416,\n",
       "        23.06686108,  31.95534438,  19.13384002,  25.6021355 ,\n",
       "        29.36066738,  20.13138624,  25.57758825,   5.39715449,\n",
       "        20.23556811,  15.19214922,  14.05048003,  20.9132413 ,\n",
       "        24.82656993,  -0.52593335,  13.64493211,  15.63961623,\n",
       "        22.07236665,  24.64857411,  10.73654066,  19.68977492,\n",
       "        23.63901554,  12.01464722,  18.48165363,  25.5276787 ,\n",
       "        20.93330297,  24.69739423,   7.5231328 ,  18.97645418,\n",
       "        21.94071123,  27.22854012,  32.1835697 ,  15.2348175 ,\n",
       "        34.38645451,  12.94934719,  21.02042602,  28.58000839,\n",
       "        15.86443974,  24.85114927,   3.3642571 ,  23.91283464,\n",
       "        25.82194826,  23.11524492,  25.33380469,  33.35827815,\n",
       "        20.55956265,  38.47579735,  13.96797115,  25.22126284,\n",
       "        17.80760011,  20.63687644,   9.78921616,  21.03711982,\n",
       "        22.33710989,  32.3250267 ,  31.49101355,  15.4640246 ,\n",
       "        16.85943025,  28.99627253,  24.96236453,  16.73903899,\n",
       "         6.13348115,  26.66907289,  23.32674936,  17.39294099,\n",
       "        13.38214192,  39.97144315,  16.63001938,  18.27952576])"
      ]
     },
     "execution_count": 7,
     "metadata": {},
     "output_type": "execute_result"
    }
   ],
   "source": [
    "# 预测\n",
    "lr1.predict(X_test)"
   ]
  },
  {
   "cell_type": "code",
   "execution_count": 5,
   "metadata": {
    "collapsed": false
   },
   "outputs": [
    {
     "data": {
      "text/plain": [
       "0.71092035863262315"
      ]
     },
     "execution_count": 5,
     "metadata": {},
     "output_type": "execute_result"
    }
   ],
   "source": [
    "# 模型评分，验证模型\n",
    "lr1.score(X_test,y_test)"
   ]
  },
  {
   "cell_type": "code",
   "execution_count": 6,
   "metadata": {
    "collapsed": false
   },
   "outputs": [
    {
     "data": {
      "text/plain": [
       "array([ -1.32774155e-01,   3.57812335e-02,   4.99454423e-02,\n",
       "         3.12127706e+00,  -1.54698463e+01,   4.04872721e+00,\n",
       "        -1.07515901e-02,  -1.38699758e+00,   2.42353741e-01,\n",
       "        -8.69095363e-03,  -9.11917342e-01,   1.19435253e-02,\n",
       "        -5.48080157e-01])"
      ]
     },
     "execution_count": 6,
     "metadata": {},
     "output_type": "execute_result"
    }
   ],
   "source": [
    "# 模型参数\n",
    "lr1.coef_"
   ]
  },
  {
   "cell_type": "code",
   "execution_count": null,
   "metadata": {
    "collapsed": true
   },
   "outputs": [],
   "source": []
  }
 ],
 "metadata": {
  "anaconda-cloud": {},
  "kernelspec": {
   "display_name": "Python [Root]",
   "language": "python",
   "name": "Python [Root]"
  },
  "language_info": {
   "codemirror_mode": {
    "name": "ipython",
    "version": 3
   },
   "file_extension": ".py",
   "mimetype": "text/x-python",
   "name": "python",
   "nbconvert_exporter": "python",
   "pygments_lexer": "ipython3",
   "version": "3.5.2"
  }
 },
 "nbformat": 4,
 "nbformat_minor": 0
}
